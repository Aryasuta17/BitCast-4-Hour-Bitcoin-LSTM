{
 "cells": [
  {
   "cell_type": "code",
   "execution_count": 7,
   "id": "a1d10beb",
   "metadata": {},
   "outputs": [
    {
     "ename": "NameError",
     "evalue": "name 'full_scaled' is not defined",
     "output_type": "error",
     "traceback": [
      "\u001b[31m---------------------------------------------------------------------------\u001b[39m",
      "\u001b[31mNameError\u001b[39m                                 Traceback (most recent call last)",
      "\u001b[36mCell\u001b[39m\u001b[36m \u001b[39m\u001b[32mIn[7]\u001b[39m\u001b[32m, line 24\u001b[39m\n\u001b[32m     18\u001b[39m model_full.compile(\n\u001b[32m     19\u001b[39m     optimizer=Adam(learning_rate=lr, clipnorm=CLIP_NORM),\n\u001b[32m     20\u001b[39m     loss=\u001b[33m'\u001b[39m\u001b[33mmse\u001b[39m\u001b[33m'\u001b[39m\n\u001b[32m     21\u001b[39m )\n\u001b[32m     23\u001b[39m \u001b[38;5;66;03m# 4) Forecast seperti biasa\u001b[39;00m\n\u001b[32m---> \u001b[39m\u001b[32m24\u001b[39m last_seq_full = \u001b[43mfull_scaled\u001b[49m[-SEQ_LEN:].reshape(\u001b[32m1\u001b[39m, SEQ_LEN, -\u001b[32m1\u001b[39m)\n\u001b[32m     25\u001b[39m hourly_forecast = iterative_forecast(model_full, last_seq_full, total_steps=\u001b[32m240\u001b[39m, seq_len=SEQ_LEN)\n\u001b[32m     27\u001b[39m \u001b[38;5;66;03m# 5) Sample tiap 4 jam, inverse‐scale, dan plot\u001b[39;00m\n",
      "\u001b[31mNameError\u001b[39m: name 'full_scaled' is not defined"
     ]
    }
   ],
   "source": [
    "from tensorflow.keras.models import load_model\n",
    "from tensorflow.keras.optimizers import Adam\n",
    "from tensorflow.keras.callbacks import ReduceLROnPlateau, EarlyStopping\n",
    "\n",
    "# 1) Load model\n",
    "model_full = load_model(\"btc_full_retrained.h5\", compile=False)\n",
    "\n",
    "# 2) Tentukan lr—ambil dari study atau manual\n",
    "# Jika study masih ada:\n",
    "# best = study.best_params\n",
    "# lr   = best[\"lr\"]\n",
    "# Jika tidak:\n",
    "lr = 1e-4   # contoh\n",
    "\n",
    "CLIP_NORM = 1.0\n",
    "\n",
    "# 3) Compile ulang\n",
    "model_full.compile(\n",
    "    optimizer=Adam(learning_rate=lr, clipnorm=CLIP_NORM),\n",
    "    loss='mse'\n",
    ")\n",
    "\n",
    "# 4) Forecast seperti biasa\n",
    "last_seq_full = full_scaled[-SEQ_LEN:].reshape(1, SEQ_LEN, -1)\n",
    "hourly_forecast = iterative_forecast(model_full, last_seq_full, total_steps=240, seq_len=SEQ_LEN)\n",
    "\n",
    "# 5) Sample tiap 4 jam, inverse‐scale, dan plot\n",
    "indexes_4h      = np.arange(3, 240, 4)\n",
    "forecast_4h     = scaler_close.inverse_transform(hourly_forecast[indexes_4h].reshape(-1,1)).flatten()\n",
    "freq            = df.index.to_series().diff().median()\n",
    "start           = df.index[-1]\n",
    "forecast_dates  = [start + pd.Timedelta(hours=(i+1)*4) for i in range(len(forecast_4h))]\n",
    "\n",
    "plt.figure(figsize=(12,5))\n",
    "plt.plot(forecast_dates, forecast_4h, marker='o')\n",
    "plt.title(\"10-Day Forecast at 4-Hour Intervals\")\n",
    "plt.xlabel(\"Timestamp\")\n",
    "plt.ylabel(\"Forecasted Close Price (USD)\")\n",
    "plt.xticks(rotation=30)\n",
    "plt.tight_layout()\n",
    "plt.show()\n"
   ]
  }
 ],
 "metadata": {
  "kernelspec": {
   "display_name": ".venv",
   "language": "python",
   "name": "python3"
  },
  "language_info": {
   "codemirror_mode": {
    "name": "ipython",
    "version": 3
   },
   "file_extension": ".py",
   "mimetype": "text/x-python",
   "name": "python",
   "nbconvert_exporter": "python",
   "pygments_lexer": "ipython3",
   "version": "3.11.0"
  }
 },
 "nbformat": 4,
 "nbformat_minor": 5
}
